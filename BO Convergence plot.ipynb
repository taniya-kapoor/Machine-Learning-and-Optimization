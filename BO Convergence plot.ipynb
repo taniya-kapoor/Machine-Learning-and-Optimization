{
 "cells": [
  {
   "cell_type": "code",
   "execution_count": 40,
   "id": "registered-assistant",
   "metadata": {},
   "outputs": [],
   "source": [
    "import numpy as np\n",
    "import matplotlib.pyplot as plt"
   ]
  },
  {
   "cell_type": "code",
   "execution_count": 41,
   "id": "historic-steal",
   "metadata": {},
   "outputs": [],
   "source": [
    "x = [10, 20, 30, 40, 50, 60]"
   ]
  },
  {
   "cell_type": "code",
   "execution_count": 42,
   "id": "declared-franchise",
   "metadata": {},
   "outputs": [],
   "source": [
    "y1 = [4.656, 4.837, 5.026, 5.143, 4.984, 5.091]\n",
    "y2 = [5.395, 5.375, 4.637, 4.943, 4.906 ,4.952]\n",
    "y3 = [5.173, 4.939, 5.251, 4.725, 5.329, 4.916]\n",
    "y4 = [5.299, 4.871, 5.279, 4.492, 4.997, 4.955]\n",
    "y5 = [4.946, 5.171, 5.368, 5.029, 5.149, 5.086]"
   ]
  },
  {
   "cell_type": "code",
   "execution_count": 49,
   "id": "minus-prerequisite",
   "metadata": {},
   "outputs": [
    {
     "data": {
      "image/png": "[encoded data removed]",
      "text/plain": [
       "<Figure size 432x288 with 1 Axes>"
      ]
     },
     "metadata": {
      "needs_background": "light"
     },
     "output_type": "display_data"
    }
   ],
   "source": [
    "axes = plt.gca()\n",
    "axes.set_xlim([5,65])\n",
    "axes.set_ylim([2,8])\n",
    "plt.xlabel(\"Iterations\")\n",
    "plt.ylabel(\"Optima of function\")\n",
    "plt.title(\"POF Function\")\n",
    "plt.plot(x, y5)\n",
    "plt.savefig('POF function.png')\n",
    "plt.show()\n"
   ]
  },
  {
   "cell_type": "code",
   "execution_count": null,
   "id": "caring-citation",
   "metadata": {},
   "outputs": [],
   "source": []
  },
  {
   "cell_type": "code",
   "execution_count": null,
   "id": "honey-marshall",
   "metadata": {},
   "outputs": [],
   "source": []
  }
 ],
 "metadata": {
  "kernelspec": {
   "display_name": "Python 3",
   "language": "python",
   "name": "python3"
  },
  "language_info": {
   "codemirror_mode": {
    "name": "ipython",
    "version": 3
   },
   "file_extension": ".py",
   "mimetype": "text/x-python",
   "name": "python",
   "nbconvert_exporter": "python",
   "pygments_lexer": "ipython3",
   "version": "3.8.5"
  }
 },
 "nbformat": 4,
 "nbformat_minor": 5
}
