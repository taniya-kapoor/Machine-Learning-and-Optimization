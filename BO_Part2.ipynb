{
 "cells": [
  {
   "cell_type": "code",
   "execution_count": 371,
   "id": "christian-dress",
   "metadata": {},
   "outputs": [],
   "source": [
    "from scipy.stats import norm\n",
    "import numpy as np\n",
    "import matplotlib.pyplot as plt\n",
    "%matplotlib inline\n",
    "import warnings\n",
    "warnings.filterwarnings('ignore')\n",
    "import GPy\n",
    "\n",
    "from Booster_single_obj_new import Booster"
   ]
  },
  {
   "cell_type": "code",
   "execution_count": 372,
   "id": "fancy-parish",
   "metadata": {},
   "outputs": [],
   "source": [
    "pts = 20\n",
    "X = np.random.uniform(0, 1, (pts, 4))\n",
    "y = np.random.uniform(0, 0, (pts, 1))\n",
    "Cons = np.random.uniform(0, 0, (9, pts))\n",
    "for i in range(pts):\n",
    "    y[i],Cons[:,i]=Booster(X[i,:])\n",
    "    y[i] = -y[i]\n",
    "#y = np.array([objective(x1,x2) for (x1,x2) in zip(X[:,0], X[:,1])])[:,None]\n",
    "k = GPy.kern.RBF(4)\n",
    "m = GPy.models.GPRegression(X, y, k)\n",
    "m.optimize()\n",
    "xi = 0.01\n"
   ]
  },
  {
   "cell_type": "code",
   "execution_count": 373,
   "id": "breeding-loading",
   "metadata": {},
   "outputs": [],
   "source": [
    "mean_cons = np.zeros((9))\n",
    "std_cons = np.zeros((9))\n",
    "for i in range(9):\n",
    "    mean_cons[i] = np.mean(Cons[:,i])\n",
    "    std_cons[i] = np.std(Cons[:, i])\n",
    "ratio = mean_cons/std_cons\n",
    "cdf = norm.cdf(ratio)\n",
    "term = np.prod(cdf)"
   ]
  },
  {
   "cell_type": "code",
   "execution_count": 374,
   "id": "coated-detection",
   "metadata": {},
   "outputs": [],
   "source": [
    "def EI(mu, best, std):\n",
    "    return (mu - best)*norm.cdf((mu - best - xi) / (std))+std*norm.pdf((mu - best) / (std))\n",
    "\n",
    "def PI(mu, best, std):\n",
    "    return norm.cdf((mu - best - xi) / (std+1E-9))\n",
    "\n",
    "def UCB(mu, best, std):\n",
    "    return mu + xi*std\n",
    "\n",
    "def Direct(mu, best, std):\n",
    "    return ((mu - best)*norm.cdf((mu - best - xi) / (std))+std*norm.pdf((mu - best) / (std)))*term\n",
    "\n",
    "def POF(mu, best, std):\n",
    "    return (mu - best)*norm.cdf((mu - best - xi)/(std))+std*norm.pdf((mu-best)/(std))*term"
   ]
  },
  {
   "cell_type": "code",
   "execution_count": 375,
   "id": "opening-brief",
   "metadata": {},
   "outputs": [
    {
     "name": "stdout",
     "output_type": "stream",
     "text": [
      "Best Result:60 & 0.189 & 0.362 & 0.348 & 0.935 & 5.145 \\\\ \\hline\n"
     ]
    }
   ],
   "source": [
    "# perform the optimization process\n",
    "# select the next point to sample\n",
    "iter = 60\n",
    "for i in range(iter):\n",
    "    Xsamples = np.random.uniform(0, 1, (pts, 4))\n",
    "    # calculate the acquisition function for each sample\n",
    "\n",
    "    yhat, _ = m.predict(X, full_cov=False)\n",
    "    best = np.max(yhat)\n",
    "    # calculate mean and stdev via surrogate function\n",
    "    mu, std = m.predict(Xsamples, full_cov=False)\n",
    "    # calculate the probability of improvement\n",
    "    Acq = EI(mu, best, std)\n",
    "    #Acq = PI(mu, best, std)\n",
    "    #Acq = UCB(mu, best, std)\n",
    "    #Acq = Direct(mu, best, std)\n",
    "    #Acq = POF(mu, best, std)\n",
    "    \n",
    "\n",
    "    # locate the index of the largest scores\n",
    "    ix = np.argmax(Acq)\n",
    "    x = Xsamples[ix, :][:,None].T\n",
    "    # sample the point\n",
    "    x1 = x[0,0]\n",
    "    x2 = x[0,1]\n",
    "    x3 = x[0,2]\n",
    "    x4 = x[0,3]\n",
    "\n",
    "    for i in range(1):\n",
    "        actual,Cons[:,i]=Booster(x[i,:])\n",
    "\n",
    "        # summarize the finding\n",
    "    #est, _ = m.predict([[x]], full_cov=False)\n",
    "    #print(\"est: \",est)\n",
    "    #print('>x=%.3f, f()=%3f, actual=%.3f' % (x, est, actual))\n",
    "        # add the data to the dataset\n",
    "\n",
    "    X = np.concatenate((X, x), axis=0)\n",
    "    y = np.vstack((y, [[actual]]))\n",
    "        # update the model\n",
    "    m = GPy.models.GPRegression(X, y, k)\n",
    "\n",
    "# best result\n",
    "ix = np.argmax(y)\n",
    "print('Best Result:%.0f & %.3f & %.3f & %.3f & %.3f & %.3f \\\\\\ \\hline' % (iter, X[ix,0], X[ix,1], X[ix,2], X[ix,3], y[ix]))"
   ]
  },
  {
   "cell_type": "code",
   "execution_count": null,
   "id": "criminal-stress",
   "metadata": {},
   "outputs": [],
   "source": []
  },
  {
   "cell_type": "code",
   "execution_count": null,
   "id": "mechanical-encoding",
   "metadata": {},
   "outputs": [],
   "source": []
  }
 ],
 "metadata": {
  "kernelspec": {
   "display_name": "Python 3",
   "language": "python",
   "name": "python3"
  },
  "language_info": {
   "codemirror_mode": {
    "name": "ipython",
    "version": 3
   },
   "file_extension": ".py",
   "mimetype": "text/x-python",
   "name": "python",
   "nbconvert_exporter": "python",
   "pygments_lexer": "ipython3",
   "version": "3.8.5"
  }
 },
 "nbformat": 4,
 "nbformat_minor": 5
}
